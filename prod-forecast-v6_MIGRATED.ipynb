{
 "cells": [
  {
   "cell_type": "markdown",
   "metadata": {},
   "source": [
    "# Product Demand Forecasting Model\n",
    "\n",
    "**Objective:** To forecast the next 30 days of sales for the 'Pet Food' category using historical data from Snowflake."
   ]
  },
  {
   "cell_type": "code",
   "execution_count": null,
   "metadata": {},
   "outputs": [],
   "source": [
    "# PROD RELEASE (2-4-22)\n",
    "import pandas as pd\n",
    "import snowflake.connector\n",
    "import os\n",
    "from statsmodels.tsa.statespace.sarimax import SARIMAX\n",
    "import matplotlib.pyplot as plt\n",
    "\n",
    "print(\"Libraries imported.\")"
   ]
  },
  {
   "cell_type": "code",
   "execution_count": null,
   "metadata": {},
   "outputs": [],
   "source": [
    "# [NOTEBOOK_AGENT]: SQL in this cell was automatically translated.\n",
    "# Fetch historical daily sales data for the 'Pet Food' category\n",
    "conn = snowflake.connector.connect(\n",
    "    user=os.getenv('SNOWFLAKE_USER'),\n",
    "    password=os.getenv('SNOWFLAKE_PASSWORD'),\n",
    "    account=os.getenv('SNOWFLAKE_ACCOUNT'),\n",
    "    database='RETAIL_PROD',\n",
    "    schema='SALES'\n",
    ")\n",
    "\n",
    "query = \"\"\"```sql\n",
    "SELECT \n",
    "    SALE_DATE, \n",
    "    SUM(SALE_AMOUNT) as DAILY_SALES\n",
    "FROM \n",
    "    `HISTORICAL_SALES`\n",
    "WHERE \n",
    "    PRODUCT_CATEGORY = 'Pet Food'\n",
    "GROUP BY SALE_DATE\n",
    "ORDER BY SALE_DATE\n",
    "```\"\"\"\n",
    "\n",
    "daily_sales_df = pd.read_sql(query, conn)\n",
    "conn.close()\n",
    "\n",
    "print(f\"Loaded {len(daily_sales_df)} days of sales data.\")"
   ]
  },
  {
   "cell_type": "code",
   "execution_count": null,
   "metadata": {},
   "outputs": [],
   "source": [
    "# Data Preparation: Create a proper time-series index\n",
    "daily_sales_df['SALE_DATE'] = pd.to_datetime(daily_sales_df['SALE_DATE'])\n",
    "daily_sales_df.set_index('SALE_DATE', inplace=True)\n",
    "\n",
    "# Resample to ensure we have a value for every day, filling missing days with 0\n",
    "ts_data = daily_sales_df['DAILY_SALES'].resample('D').fillna(0)\n",
    "\n",
    "print(\"Time-series data prepared for modeling.\")\n",
    "ts_data.plot(title='Daily Pet Food Sales', figsize=(15, 6))"
   ]
  },
  {
   "cell_type": "code",
   "execution_count": null,
   "metadata": {},
   "outputs": [],
   "source": [
    "# Model Training: Fit a simple SARIMA model\n",
    "# (Note: p,d,q parameters are chosen for simplicity in this demo)\n",
    "print(\"Training SARIMA model...\")\n",
    "model = SARIMAX(ts_data, order=(1, 1, 1), seasonal_order=(1, 1, 1, 7))\n",
    "model_fit = model.fit(disp=False)\n",
    "\n",
    "print(\"Model training complete.\")"
   ]
  },
  {
   "cell_type": "code",
   "execution_count": null,
   "metadata": {},
   "outputs": [],
   "source": [
    "# Forecasting: Predict the next 30 days\n",
    "print(\"Generating forecast for the next 30 days...\")\n",
    "forecast = model_fit.forecast(steps=30)\n",
    "\n",
    "# Plot the forecast against historical data\n",
    "plt.figure(figsize=(15, 7))\n",
    "plt.plot(ts_data.tail(90), label='Historical Sales')\n",
    "plt.plot(forecast, label='Forecasted Sales', color='red')\n",
    "plt.title('Sales Forecast vs. Historical Data')\n",
    "plt.legend()\n",
    "plt.show()"
   ]
  }
 ],
 "metadata": {
  "kernelspec": {
   "display_name": "Python 3.13.3 ('.venv': venv)",
   "language": "python",
   "name": "python3"
  },
  "language_info": {
   "name": "python",
   "version": "3.13.3"
  },
  "vscode": {
   "interpreter": {
    "hash": "1b855b6ee89cdea33d6e2ade604aa6162d0ad36a72d71861a587298335a6867e"
   }
  }
 },
 "nbformat": 4,
 "nbformat_minor": 4
}