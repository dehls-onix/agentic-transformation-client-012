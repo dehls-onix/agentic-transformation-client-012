{
 "cells": [
  {
   "cell_type": "markdown",
   "metadata": {},
   "source": [
    "# Weekly Sales Performance Report\n",
    "\n",
    "**Objective:** To analyze weekly sales data by product category from the Snowflake `SALES` table and visualize the top-performing categories."
   ]
  },
  {
   "cell_type": "code",
   "execution_count": null,
   "metadata": {},
   "outputs": [],
   "source": [
    "import pandas as pd\n",
    "import snowflake.connector\n",
    "import os\n",
    "import matplotlib.pyplot as plt\n",
    "\n",
    "# Assume Snowflake credentials are set as environment variables for security\n",
    "SNOWFLAKE_USER = os.getenv('SNOWFLAKE_USER')\n",
    "SNOWFLAKE_PASSWORD = os.getenv('SNOWFLAKE_PASSWORD')\n",
    "SNOWFLAKE_ACCOUNT = os.getenv('SNOWFLAKE_ACCOUNT')\n",
    "SNOWFLAKE_WAREHOUSE = 'COMPUTE_WH'\n",
    "SNOWFLAKE_DATABASE = 'RETAIL_PROD'\n",
    "SNOWFLAKE_SCHEMA = 'SALES'"
   ]
  },
  {
   "cell_type": "code",
   "execution_count": null,
   "metadata": {},
   "outputs": [],
   "source": [
    "# [NOTEBOOK_AGENT]: SQL in this cell was automatically translated.\n",
    "# This cell connects to Snowflake and fetches aggregated sales data.\n",
    "conn = snowflake.connector.connect(\n",
    "    user=SNOWFLAKE_USER,\n",
    "    password=SNOWFLAKE_PASSWORD,\n",
    "    account=SNOWFLAKE_ACCOUNT,\n",
    "    warehouse=SNOWFLAKE_WAREHOUSE,\n",
    "    database=SNOWFLAKE_DATABASE,\n",
    "    schema=SNOWFLAKE_SCHEMA\n",
    ")\n",
    "\n",
    "sql_query = \"\"\"\n",
    "```sql\n",
    "SELECT\n",
    "    PRODUCT_CATEGORY,\n",
    "    SUM(SALE_AMOUNT) as TOTAL_REVENUE\n",
    "FROM\n",
    "    `WEEKLY_SALES`\n",
    "WHERE\n",
    "    SALE_DATE >= DATE_SUB(CURRENT_DATE(), INTERVAL 7 DAY)\n",
    "GROUP BY\n",
    "    PRODUCT_CATEGORY\n",
    "ORDER BY\n",
    "    TOTAL_REVENUE DESC\n",
    "LIMIT 10\n",
    "```\n",
    "\"\"\"\n",
    "\n",
    "print(\"Executing query against Snowflake...\")\n",
    "sales_df = pd.read_sql(sql_query, conn)\n",
    "conn.close()\n",
    "\n",
    "print(\"Data loaded successfully.\")"
   ]
  },
  {
   "cell_type": "code",
   "execution_count": null,
   "metadata": {},
   "outputs": [],
   "source": [
    "# Perform a quick data check\n",
    "print(\"Top 5 Product Categories by Revenue:\")\n",
    "display(sales_df.head())"
   ]
  },
  {
   "cell_type": "code",
   "execution_count": null,
   "metadata": {},
   "outputs": [],
   "source": [
    "# Visualize the results\n",
    "plt.style.use('seaborn-v0_8-whitegrid')\n",
    "fig, ax = plt.subplots(figsize=(12, 7))\n",
    "\n",
    "ax.bar(sales_df['PRODUCT_CATEGORY'], sales_df['TOTAL_REVENUE'], color='skyblue')\n",
    "ax.set_title('Top 10 Product Categories by Revenue (Last 7 Days)', fontsize=16)\n",
    "ax.set_ylabel('Total Revenue ($)')\n",
    "ax.set_xlabel('Product Category')\n",
    "plt.xticks(rotation=45, ha='right')\n",
    "plt.tight_layout()\n",
    "plt.show()"
   ]
  }
 ],
 "metadata": {
  "kernelspec": {
   "display_name": "Python 3",
   "language": "python",
   "name": "python3"
  },
  "language_info": {
   "name": "python",
   "version": "3.10.9"
  }
 },
 "nbformat": 4,
 "nbformat_minor": 4
}