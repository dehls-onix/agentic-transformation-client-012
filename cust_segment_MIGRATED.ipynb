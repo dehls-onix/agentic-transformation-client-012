{
 "cells": [
  {
   "cell_type": "markdown",
   "metadata": {},
   "source": [
    "# Customer Segmentation ETL using Snowpark\n",
    "\n",
    "**Objective:** Create a feature set for customer segmentation by joining customer demographics with transaction history. This ETL job uses Snowpark for in-database processing."
   ]
  },
  {
   "cell_type": "code",
   "execution_count": null,
   "metadata": {},
   "outputs": [],
   "source": [
    "import pandas as pd\n",
    "from snowflake.snowpark.session import Session\n",
    "from snowflake.snowpark.functions import col, sum, count, avg\n",
    "import os\n",
    "\n",
    "# Connection parameters\n",
    "connection_parameters = {\n",
    "    \"account\": os.getenv('SNOWFLAKE_ACCOUNT'),\n",
    "    \"user\": os.getenv('SNOWFLAKE_USER'),\n",
    "    \"password\": os.getenv('SNOWFLAKE_PASSWORD'),\n",
    "    \"role\": \"ANALYST\",\n",
    "    \"warehouse\": \"COMPUTE_WH\",\n",
    "    \"database\": \"RETAIL_PROD\",\n",
    "    \"schema\": \"MARKETING\"\n",
    "}"
   ]
  },
  {
   "cell_type": "code",
   "execution_count": null,
   "metadata": {},
   "outputs": [],
   "source": [
    "# Create a Snowpark session\n",
    "print(\"Initializing Snowpark session...\")\n",
    "session = Session.builder.configs(connection_parameters).create()\n",
    "print(\"Session created successfully.\")"
   ]
  },
  {
   "cell_type": "code",
   "execution_count": null,
   "metadata": {},
   "outputs": [],
   "source": [
    "# Read customer and transaction tables into Snowpark DataFrames\n",
    "customers_sdf = session.table('CUSTOMERS')\n",
    "transactions_sdf = session.table('TRANSACTIONS')\n",
    "\n",
    "print(\"Tables loaded into Snowpark DataFrames.\")"
   ]
  },
  {
   "cell_type": "code",
   "execution_count": null,
   "metadata": {},
   "outputs": [],
   "source": [
    "# Feature Engineering: Calculate RFM (Recency, Frequency, Monetary) scores\n",
    "rfm_features = transactions_sdf.group_by(\"CUSTOMER_ID\").agg(\n",
    "    count(\"TRANSACTION_ID\").alias(\"FREQUENCY\"),\n",
    "    sum(\"AMOUNT\").alias(\"MONETARY\")\n",
    ")\n",
    "\n",
    "# Join features back to the customer table\n",
    "customer_features_sdf = customers_sdf.join(rfm_features, \"CUSTOMER_ID\", \"left\") \\\n",
    "                                     .select(\"CUSTOMER_ID\", \"AGE\", \"LOCATION\", \"FREQUENCY\", \"MONETARY\")\n",
    "\n",
    "print(\"Feature engineering complete. Showing a preview:\")\n",
    "customer_features_sdf.show()"
   ]
  },
  {
   "cell_type": "code",
   "execution_count": null,
   "metadata": {},
   "outputs": [],
   "source": [
    "# Final Step: Convert to Pandas for local use or saving\n",
    "print(\"Converting to Pandas DataFrame...\")\n",
    "final_features_df = customer_features_sdf.to_pandas()\n",
    "\n",
    "print(\"Saving features to CSV for ML model consumption...\")\n",
    "final_features_df.to_csv('customer_features.csv', index=False)\n",
    "\n",
    "print(\"ETL process complete.\")\n",
    "session.close()"
   ]
  }
 ],
 "metadata": {
  "kernelspec": {
   "display_name": "Python 3",
   "language": "python",
   "name": "python3"
  },
  "language_info": {
   "name": "python",
   "version": "3.10.9"
  }
 },
 "nbformat": 4,
 "nbformat_minor": 4
}